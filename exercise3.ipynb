{
 "cells": [
  {
   "cell_type": "code",
   "execution_count": 1,
   "metadata": {},
   "outputs": [
    {
     "name": "stdout",
     "output_type": "stream",
     "text": [
      "xxxxxx\n",
      "x    x\n",
      "x    x\n",
      "x    x\n",
      "x    x\n",
      "xxxxxx\n"
     ]
    }
   ],
   "source": [
    "n = int(input(\"Enter the side length of the square: \"))\n",
    "\n",
    "for i in range(n):\n",
    "    if i == 0 or i == n - 1:\n",
    "        print('x' * n)\n",
    "    else:\n",
    "        print('x' + ' ' * (n - 2) + 'x')\n",
    "        \n",
    "\n"
   ]
  }
 ],
 "metadata": {
  "kernelspec": {
   "display_name": "Python 3",
   "language": "python",
   "name": "python3"
  },
  "language_info": {
   "codemirror_mode": {
    "name": "ipython",
    "version": 3
   },
   "file_extension": ".py",
   "mimetype": "text/x-python",
   "name": "python",
   "nbconvert_exporter": "python",
   "pygments_lexer": "ipython3",
   "version": "3.12.2"
  }
 },
 "nbformat": 4,
 "nbformat_minor": 2
}
